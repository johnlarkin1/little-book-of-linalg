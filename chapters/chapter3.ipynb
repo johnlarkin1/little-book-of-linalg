{
 "cells": [
  {
   "cell_type": "markdown",
   "id": "68cdbaca-e7cd-4c86-a187-307f9caae227",
   "metadata": {},
   "source": [
    "# Chapter 3. Linear Systems and Elimination"
   ]
  },
  {
   "cell_type": "code",
   "execution_count": 7,
   "id": "039a12b6-c857-4d62-80d3-0d34fc21e0dc",
   "metadata": {},
   "outputs": [],
   "source": [
    "import numpy as np\n",
    "import matplotlib.pyplot as plt\n",
    "import time\n",
    "from sympy import Matrix\n",
    "\n",
    "%matplotlib widget"
   ]
  },
  {
   "cell_type": "markdown",
   "id": "9ed8f7cd-b01f-49ef-8118-b86e7a281b33",
   "metadata": {},
   "source": [
    "## 21. From Equations to Matrices (Augmenting and Encoding)"
   ]
  },
  {
   "cell_type": "markdown",
   "id": "c1e538eb-a3ca-4171-9771-538aec740f99",
   "metadata": {},
   "source": [
    "Let's look at a system of equations\n",
    "\n",
    "$$\n",
    "\\begin{align}\n",
    "2x + y &=8 \\\\\n",
    "-3x + 4y &= -11\n",
    "\\end{align}\n",
    "$$"
   ]
  },
  {
   "cell_type": "code",
   "execution_count": 3,
   "id": "d0a1cb2f-d889-4905-82af-4406f4cc7e73",
   "metadata": {},
   "outputs": [
    {
     "name": "stdout",
     "output_type": "stream",
     "text": [
      "Coefficient matrix A:\n",
      " [[ 2  1]\n",
      " [-3  4]]\n",
      "Constants vector b: [  8 -11]\n"
     ]
    }
   ],
   "source": [
    "A = np.array([\n",
    "    [2, 1],\n",
    "    [-3, 4]\n",
    "])\n",
    "\n",
    "b = np.array([8, -11])\n",
    "\n",
    "print(\"Coefficient matrix A:\\n\", A)\n",
    "print(\"Constants vector b:\", b)"
   ]
  },
  {
   "cell_type": "markdown",
   "id": "89636d24-8213-45e2-9be4-52c601f63765",
   "metadata": {},
   "source": [
    "System is $A \\cdot x = b$"
   ]
  },
  {
   "cell_type": "code",
   "execution_count": 4,
   "id": "d15f1cfb-5084-4119-b219-eecaed04df55",
   "metadata": {},
   "outputs": [
    {
     "name": "stdout",
     "output_type": "stream",
     "text": [
      "Augmented matrix:\n",
      " [[  2   1   8]\n",
      " [ -3   4 -11]]\n"
     ]
    }
   ],
   "source": [
    "augmented = np.column_stack((A, b))\n",
    "print(\"Augmented matrix:\\n\", augmented)"
   ]
  },
  {
   "cell_type": "code",
   "execution_count": 5,
   "id": "0d53dd45-5726-4281-be1c-80d2fb549a45",
   "metadata": {},
   "outputs": [
    {
     "name": "stdout",
     "output_type": "stream",
     "text": [
      "Solution (x,y): [3.90909091 0.18181818]\n"
     ]
    }
   ],
   "source": [
    "solution = np.linalg.solve(A, b)\n",
    "print(\"Solution (x,y):\", solution)"
   ]
  },
  {
   "cell_type": "markdown",
   "id": "bb4a7014-a7be-46da-add0-edc920bca635",
   "metadata": {},
   "source": [
    "## 22. Row Operations (legal moves that keep solns)\n",
    "\n",
    "Three legal row ops:\n",
    "\n",
    "1. swap two rows\n",
    "2. multiple a row by a non-zero scalar\n",
    "3. replace a row with itself pplus a multiple of another row"
   ]
  },
  {
   "cell_type": "markdown",
   "id": "19a3509d-18d7-4c24-98f3-75246a5a722f",
   "metadata": {},
   "source": [
    "this part the book / lab absolutely botched the demo / walkthrough"
   ]
  },
  {
   "cell_type": "markdown",
   "id": "6f11ef76-618a-47b1-95ac-cc955f85c972",
   "metadata": {},
   "source": [
    "## 23. Row-Echelon and Reduced Row-Echelon Forms (Target Shapes)"
   ]
  },
  {
   "cell_type": "markdown",
   "id": "aeba7dad-5869-45f8-b77c-33c295f66da4",
   "metadata": {},
   "source": [
    "Our goal is to simplify the augemented matrix into a standard shape where the solutions are easy to read. \n",
    "    \n",
    "These shapes are called:\n",
    "* row-echelon form (REF)\n",
    "* reduced row-echelon form (RREF)"
   ]
  },
  {
   "cell_type": "code",
   "execution_count": 8,
   "id": "1f77984f-fc2d-48a3-94dd-9ccf8a56f8a1",
   "metadata": {},
   "outputs": [
    {
     "name": "stdout",
     "output_type": "stream",
     "text": [
      "RREF form:\n",
      " Matrix([[1, 2, 0, 0], [0, 0, 1, 0], [0, 0, 0, 1]])\n"
     ]
    }
   ],
   "source": [
    "from sympy import Matrix\n",
    "M = Matrix([\n",
    "    [1, 2, 1, 7],\n",
    "    [2, 4, 1, 12],\n",
    "    [3, 6, 2, 17]\n",
    "])\n",
    "\n",
    "M_rref = M.rref()\n",
    "print(\"RREF form:\\n\", M_rref[0])"
   ]
  },
  {
   "cell_type": "markdown",
   "id": "e1661587-5fcb-4c98-87bd-160f1a78da8a",
   "metadata": {},
   "source": [
    "If the RREF looks like\n",
    "\n",
    "\\begin{bmatrix}\n",
    "1 & 0 & a & b \\\\\n",
    "0 & 1 & c & d \\\\\n",
    "0 & 0 & 0 & 0\n",
    "\\end{bmatrix}\n",
    "\n",
    "* first two vars are leading (i.e. pivots)\n",
    "* third var is free\n",
    "* solutions can be written in terms of the free var\n",
    "\n",
    "So basically:\n",
    "\n",
    "* **ref organizes equations into a staircase shape**\n",
    "* **rref goes further, making each pivot the only nonzero in its column**"
   ]
  },
  {
   "cell_type": "markdown",
   "id": "a02f5aa0-0c78-4fad-be2e-b2fea77e41fb",
   "metadata": {},
   "source": [
    "**Row-Echelon Form (REF)**\n",
    "A matrix is in row-echelon form if:\n",
    "\n",
    "* All nonzero rows are above any rows of all zeros.\n",
    "* In each nonzero row, the first nonzero entry (called the leading entry or pivot) is to the right of the leading entry of the row above it.\n",
    "* All entries below a pivot are zero."
   ]
  },
  {
   "cell_type": "markdown",
   "id": "a093a6d6-146a-4fde-962f-a776bf2706ba",
   "metadata": {},
   "source": [
    "**Reduced Row-Echelon Form (RREF)**\n",
    "A matrix is in reduced row-echelon form if, in addition to the rules of REF:\n",
    "\n",
    "* Each pivot is equal to 1.\n",
    "* Each pivot is the only nonzero entry in its column (everything above and below pivots is zero)."
   ]
  },
  {
   "cell_type": "markdown",
   "id": "350752d8-df4f-4aa6-9517-381d81b80620",
   "metadata": {},
   "source": [
    "## 25. Solving Consistent Systems (Unique vs Infinite Solutions)"
   ]
  },
  {
   "cell_type": "code",
   "execution_count": 9,
   "id": "8fd3db77-b1e2-49f3-a30c-8640d3926a1e",
   "metadata": {},
   "outputs": [
    {
     "name": "stdout",
     "output_type": "stream",
     "text": [
      "RREF form:\n",
      " Matrix([[1, 0, 1], [0, 1, 2]])\n",
      "Solution: Matrix([[1], [2]])\n"
     ]
    }
   ],
   "source": [
    "from sympy import Matrix\n",
    "\n",
    "M = Matrix([\n",
    "    [1, 1, 3],\n",
    "    [2, -1, 0]\n",
    "])\n",
    "\n",
    "M_rref = M.rref()\n",
    "print(\"RREF form:\\n\", M_rref[0])\n",
    "\n",
    "# Split into coefficient matrix A and right-hand side b\n",
    "A = M[:, :2]\n",
    "b = M[:, 2]\n",
    "\n",
    "solution = A.solve_least_squares(b)\n",
    "print(\"Solution:\", solution)"
   ]
  },
  {
   "cell_type": "code",
   "execution_count": 10,
   "id": "7b68ec46-e47f-4538-8761-61f3410f564b",
   "metadata": {},
   "outputs": [
    {
     "name": "stdout",
     "output_type": "stream",
     "text": [
      "RREF form:\n",
      " Matrix([[1, 1, 1, 2], [0, 0, 0, 0]])\n"
     ]
    }
   ],
   "source": [
    "M2 = Matrix([\n",
    "    [1, 1, 1, 2],\n",
    "    [2, 2, 2, 4]\n",
    "])\n",
    "\n",
    "M2_rref = M2.rref()\n",
    "print(\"RREF form:\\n\", M2_rref[0])"
   ]
  },
  {
   "cell_type": "markdown",
   "id": "83fc4db5-0071-4a19-9e30-ae347408a570",
   "metadata": {},
   "source": [
    "First one has a unique solution, the second one has infinite solutions. "
   ]
  },
  {
   "cell_type": "markdown",
   "id": "65f67a5f-d5b4-4721-92b1-cf65ab6ea091",
   "metadata": {},
   "source": [
    "## 26. Detecting Inconsistency (when no solution exists)"
   ]
  },
  {
   "cell_type": "markdown",
   "id": "73ddac1c-0127-43d2-9905-a197792b512e",
   "metadata": {},
   "source": [
    "Basically inconsistent means that the equations contradict themseleves. We can visualize it like such:"
   ]
  },
  {
   "cell_type": "code",
   "execution_count": 11,
   "id": "1f2a78b9-df3b-4939-b13c-9863c74e1ba9",
   "metadata": {},
   "outputs": [
    {
     "data": {
      "application/vnd.jupyter.widget-view+json": {
       "model_id": "23e6911337ce47b68f0c6c1237f10f18",
       "version_major": 2,
       "version_minor": 0
      },
      "image/png": "[encoded data removed]",
      "text/html": [
       "\n",
       "            <div style=\"display: inline-block;\">\n",
       "                <div class=\"jupyter-widgets widget-label\" style=\"text-align: center;\">\n",
       "                    Figure\n",
       "                </div>\n",
       "                <img src='data:image/png;base64,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' width=640.0/>\n",
       "            </div>\n",
       "        "
      ],
      "text/plain": [
       "Canvas(toolbar=Toolbar(toolitems=[('Home', 'Reset original view', 'home', 'home'), ('Back', 'Back to previous …"
      ]
     },
     "metadata": {},
     "output_type": "display_data"
    }
   ],
   "source": [
    "import matplotlib.pyplot as plt\n",
    "\n",
    "x_vals = np.linspace(-1, 3, 100)\n",
    "y1 = 2 - x_vals\n",
    "y2 = 3 - x_vals\n",
    "\n",
    "plt.plot(x_vals, y1, label=\"x+y=2\")\n",
    "plt.plot(x_vals, y2, label=\"x+y=3\")\n",
    "\n",
    "plt.legend()\n",
    "plt.axhline(0,color='black',linewidth=0.5)\n",
    "plt.axvline(0,color='black',linewidth=0.5)\n",
    "plt.grid()\n",
    "plt.show()"
   ]
  },
  {
   "cell_type": "markdown",
   "id": "f53badad-ea3e-4cbc-83e5-16e57e2629ed",
   "metadata": {},
   "source": [
    "Ok gonna breeze through this portion some because some of this is redundant / I don't think it's too relevant. "
   ]
  },
  {
   "cell_type": "markdown",
   "id": "19bd9503-e444-4379-b5bf-6aaef0c2ca78",
   "metadata": {},
   "source": [
    "## 29. Rank and Its First Meaning (Pivots as Information)"
   ]
  },
  {
   "cell_type": "markdown",
   "id": "6e1f62d3-e2ea-4fc5-8255-1c71b22cdf69",
   "metadata": {},
   "source": [
    "Rank of a matrix tells us how much independent information it contains. \n",
    "\n",
    "It's one of the most important concepts in linear algebra because it connects to pivots, independence, dimension, and number of solutions to a system. "
   ]
  },
  {
   "cell_type": "markdown",
   "id": "6711b6a0-5ff0-4ad0-8e4e-42891b30cb4c",
   "metadata": {},
   "source": [
    "### Rank in Terms of Independence \n",
    "\n",
    "A set of vectors is linearly independent if none can be expressed as a combination of the others. \n",
    "\n",
    "* rank of a matrix tells us how many independent rows or columns it has\n",
    "* if some columns are combination of others, they do not increase the rank\n",
    "\n",
    "If $ \\text{rank}(A) = \\text{rank}(A | b ) $ the system is consistent \n",
    "\n",
    "If rank = num variables, system has unique solution. rank < num variables, infinitely many solutions. \n",
    "\n",
    "\n",
    "### Rank and Geometry\n",
    "* rank 1 -> all information lies along a line\n",
    "* rank 2 -> all inofrmation lies in a plane\n",
    "* rank 3 -> fills 3d space\n",
    "\n",
    "In $\\mathbb{R}^3$, a matrix of rank 2 has columns spanning a plan through the origin. \n"
   ]
  },
  {
   "cell_type": "code",
   "execution_count": 13,
   "id": "07b48f1d-ca12-4ad1-b9f7-e23a43ae78a7",
   "metadata": {},
   "outputs": [
    {
     "name": "stdout",
     "output_type": "stream",
     "text": [
      "rank 1\n"
     ]
    }
   ],
   "source": [
    "A = np.array([\n",
    "    [1, 2, 3],\n",
    "    [2, 4, 6],\n",
    "    [3, 6, 9]\n",
    "])\n",
    "print(\"rank\", np.linalg.matrix_rank(A))"
   ]
  },
  {
   "cell_type": "code",
   "execution_count": 25,
   "id": "31299050-1ef5-4222-bf2f-2f5c56537542",
   "metadata": {},
   "outputs": [
    {
     "name": "stdout",
     "output_type": "stream",
     "text": [
      "(4, 4)\n",
      "4\n"
     ]
    }
   ],
   "source": [
    "b_init = np.random.randn(4,4)\n",
    "# print(b_init)\n",
    "print(b_init.shape)\n",
    "B = Matrix(b_init)\n",
    "# print(B)\n",
    "print(B.rank())"
   ]
  },
  {
   "cell_type": "markdown",
   "id": "f6cd159b-2751-4b56-b18c-11654673a7d2",
   "metadata": {},
   "source": [
    "## 30. LU Factorization (Elimination Captured as L and U)\n",
    "\n",
    "Gaussian elimmn can be recorded in a neat factorization:\n",
    "\n",
    "$$ A = LU $$\n",
    "\n",
    "where $L$ is a lower triangular matrix and $U$ is an upper triangular matrix. This factorization is a powerful way for solving systems efficiently.\n",
    "\n",
    "### What is LU Factorization?\n",
    "\n",
    "If $A$ is an $n \\times n $ matrix then $ A = LU $.\n",
    "\n",
    "* $L$ is lower-triangular (entries below diagonal may be nonzero, diagonal entries = 1).\n",
    "* $U$ is upper-triangular (entries above diagonal may be nonzero)."
   ]
  },
  {
   "cell_type": "code",
   "execution_count": 27,
   "id": "667c76f8-4c90-4e87-a38f-4fe1e48b6993",
   "metadata": {},
   "outputs": [
    {
     "name": "stdout",
     "output_type": "stream",
     "text": [
      "Matrix A:\n",
      " [[ 2.  3.  1.]\n",
      " [ 4.  7.  7.]\n",
      " [ 6. 18. 22.]]\n",
      "Permutation matrix P:\n",
      " [[0. 0. 1.]\n",
      " [0. 1. 0.]\n",
      " [1. 0. 0.]]\n",
      "Lower triangular L:\n",
      " [[1.         0.         0.        ]\n",
      " [0.66666667 1.         0.        ]\n",
      " [0.33333333 0.6        1.        ]]\n",
      "Upper triangular U:\n",
      " [[ 6.         18.         22.        ]\n",
      " [ 0.         -5.         -7.66666667]\n",
      " [ 0.          0.         -1.73333333]]\n"
     ]
    }
   ],
   "source": [
    "import numpy as np\n",
    "from scipy.linalg import lu \n",
    "\n",
    "A = np.array([\n",
    "    [2, 3, 1],\n",
    "    [4, 7, 7],\n",
    "    [6, 18, 22]\n",
    "], dtype=float)\n",
    "\n",
    "print(\"Matrix A:\\n\", A)\n",
    "\n",
    "P, L, U = lu(A)\n",
    "\n",
    "print(\"Permutation matrix P:\\n\", P)\n",
    "print(\"Lower triangular L:\\n\", L)\n",
    "print(\"Upper triangular U:\\n\", U)"
   ]
  },
  {
   "cell_type": "markdown",
   "id": "e3e55f0d-88f8-481b-b3ea-18875706d032",
   "metadata": {},
   "source": [
    "### Pivoting and Permutations\n",
    "\n",
    "Sometimes elimination requires row swaps. Then factorization is written as:\n",
    "\n",
    "$$ P A = L U $$\n",
    "\n",
    "where $P$ is a permutation matrix recording the row swaps. This is the practical form used in computing. "
   ]
  },
  {
   "cell_type": "code",
   "execution_count": 31,
   "id": "bc1427b7-3523-4e4f-84fc-ff15aa4ac649",
   "metadata": {},
   "outputs": [
    {
     "name": "stdout",
     "output_type": "stream",
     "text": [
      "Matrix A:\n",
      " [[1. 2.]\n",
      " [3. 8.]]\n",
      "Permutation matrix P:\n",
      " [[0. 1.]\n",
      " [1. 0.]]\n",
      "Lower triangular L:\n",
      " [[1.         0.        ]\n",
      " [0.33333333 1.        ]]\n",
      "Upper triangular U:\n",
      " [[ 3.          8.        ]\n",
      " [ 0.         -0.66666667]]\n"
     ]
    }
   ],
   "source": [
    "import numpy as np\n",
    "from scipy.linalg import lu \n",
    "\n",
    "A = np.array([\n",
    "    [1, 2],\n",
    "    [3, 8],\n",
    "], dtype=float)\n",
    "\n",
    "print(\"Matrix A:\\n\", A)\n",
    "\n",
    "P, L, U = lu(A)\n",
    "\n",
    "print(\"Permutation matrix P:\\n\", P)\n",
    "print(\"Lower triangular L:\\n\", L)\n",
    "print(\"Upper triangular U:\\n\", U)"
   ]
  },
  {
   "cell_type": "code",
   "execution_count": 32,
   "id": "a87c5ede-ed14-4791-aa87-2e5f24c89842",
   "metadata": {},
   "outputs": [
    {
     "name": "stdout",
     "output_type": "stream",
     "text": [
      "Does P·L·U equal A?\n",
      " True\n"
     ]
    }
   ],
   "source": [
    "reconstructed = P @ L @ U\n",
    "print(\"Does P·L·U equal A?\\n\", np.allclose(reconstructed, A))"
   ]
  },
  {
   "cell_type": "code",
   "execution_count": 29,
   "id": "097b527c-d7c6-4481-b2ef-42b36f09ada4",
   "metadata": {},
   "outputs": [
    {
     "name": "stdout",
     "output_type": "stream",
     "text": [
      "[[ 1  3]\n",
      " [ 3 25]]\n"
     ]
    }
   ],
   "source": [
    "U = np.array([\n",
    "    [1,3],\n",
    "    [0,2]\n",
    "])\n",
    "L = np.array([\n",
    "    [1,0],\n",
    "    [3,8]\n",
    "])\n",
    "\n",
    "R = L @ U\n",
    "print(R)"
   ]
  },
  {
   "cell_type": "markdown",
   "id": "8366ece4-7ded-4236-ab91-723b3f1d4dde",
   "metadata": {},
   "source": [
    "Faster way to solve this manually is:\n",
    "\n",
    "Suppose $Ax = b$, if $A = LU$, then\n",
    "1. solve $Ly = b$ by forwrad sub\n",
    "2. solve $Ux = y$ by back substitution"
   ]
  },
  {
   "cell_type": "markdown",
   "id": "275ee13b-c1db-4cba-93da-04e8bba30132",
   "metadata": {},
   "source": [
    "Geometrically, LU decomp separates the elimination process into:\n",
    "\n",
    "* $L$ - shear transformations (adding multiples of rows)\n",
    "* $U$ - scaling and alignment into triangular form\n",
    "\n",
    "### Why it matters\n",
    "\n",
    "1. LU factorizatino comprresses elin into reusable format\n",
    "2. cornerstone of numerical linear algebra\n",
    "3. links computation with theory\n",
    "4. introduces broader idea that matrices can be broken into simple interpretable parts"
   ]
  },
  {
   "cell_type": "markdown",
   "id": "69d86404-6e25-4b7b-ac40-8c2f87a994e2",
   "metadata": {},
   "source": [
    "The numpy / scipy version basically computes:\n",
    "\n",
    "$$ A = P \\cdot L \\cdot U $$\n",
    "\n",
    "Allows for fast repeated solving of systems with different right-hand sides\n",
    "\n",
    "LU decomposition is a core technique. \n",
    "\n"
   ]
  }
 ],
 "metadata": {
  "kernelspec": {
   "display_name": "Python 3 (ipykernel)",
   "language": "python",
   "name": "python3"
  },
  "language_info": {
   "codemirror_mode": {
    "name": "ipython",
    "version": 3
   },
   "file_extension": ".py",
   "mimetype": "text/x-python",
   "name": "python",
   "nbconvert_exporter": "python",
   "pygments_lexer": "ipython3",
   "version": "3.13.5"
  }
 },
 "nbformat": 4,
 "nbformat_minor": 5
}
