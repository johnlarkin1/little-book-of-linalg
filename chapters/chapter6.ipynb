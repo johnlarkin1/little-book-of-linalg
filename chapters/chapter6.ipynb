{
 "cells": [
  {
   "cell_type": "markdown",
   "id": "a4952ebe-80f3-4b54-b59f-9d437ad90cd5",
   "metadata": {},
   "source": [
    "# Chapter 6. Determinants and Volume"
   ]
  },
  {
   "cell_type": "code",
   "execution_count": 1,
   "id": "c95a2709-7005-4a2f-bdb4-fd68e8984c45",
   "metadata": {},
   "outputs": [],
   "source": [
    "import numpy as np\n",
    "import matplotlib.pyplot as plt\n",
    "import time\n",
    "%matplotlib widget\n",
    "from sympy import Matrix\n",
    "from pprint import pprint"
   ]
  },
  {
   "cell_type": "markdown",
   "id": "c83d4529-1158-413f-b662-547a7fe410b9",
   "metadata": {},
   "source": [
    "## 51. Areazs, Volumes, and Signed Scale Factors\n",
    "\n",
    "Determinant of a matrix has a deep geometric meaning: tells us how a linear transformation scales area in (2D), volume (3D), or higher dimensional content. \n",
    "\n",
    "### Determinant as Signed Scale Factor\n",
    "\n",
    "* $|det(A)|$ = scale factor for areas, volumes, or n-dimensional content\n",
    "* $|det(A)|$ = 0, xform collapses space into lower dimension\n",
    "* $|det(A)|$ > 0, orientation of space is preserved\n",
    "* $|det(A)|$ < 0, orientation is flipped (like a reflection)"
   ]
  },
  {
   "cell_type": "code",
   "execution_count": 2,
   "id": "53aa6d50-2342-4954-b301-8fe8a2e860d9",
   "metadata": {},
   "outputs": [
    {
     "name": "stdout",
     "output_type": "stream",
     "text": [
      "Determinant: 1\n"
     ]
    }
   ],
   "source": [
    "A = Matrix([\n",
    "    [2,1],\n",
    "    [1,1]\n",
    "])\n",
    "\n",
    "print(\"Determinant:\", A.det())"
   ]
  },
  {
   "cell_type": "code",
   "execution_count": 3,
   "id": "5d79323e-cdcd-4983-ad4e-a2cd928178c5",
   "metadata": {},
   "outputs": [
    {
     "name": "stdout",
     "output_type": "stream",
     "text": [
      "Original square:\n",
      " Matrix([[0, 0], [1, 0], [1, 1], [0, 1]])\n",
      "Transformed square:\n",
      " Matrix([[0, 0], [2, 1], [3, 2], [1, 1]])\n"
     ]
    }
   ],
   "source": [
    "square = Matrix([\n",
    "    [0,0],\n",
    "    [1,0],\n",
    "    [1,1],\n",
    "    [0,1]\n",
    "])\n",
    "\n",
    "transformed = (A * square.T).T\n",
    "print(\"Original square:\\n\", square)\n",
    "print(\"Transformed square:\\n\", transformed)"
   ]
  },
  {
   "cell_type": "code",
   "execution_count": 4,
   "id": "bbbdb56d-e735-4db8-90ee-710ee987d90b",
   "metadata": {},
   "outputs": [
    {
     "name": "stdout",
     "output_type": "stream",
     "text": [
      "Original square:\n",
      " Matrix([[0, 0], [1, 0], [1, 1], [0, 1]])\n",
      "Transformed square:\n",
      " Matrix([[0, 0], [3, 0], [3, 2], [0, 2]])\n"
     ]
    }
   ],
   "source": [
    "A = Matrix([\n",
    "    [3,0],\n",
    "    [0,2]\n",
    "])\n",
    "\n",
    "transformed = (A * square.T).T\n",
    "print(\"Original square:\\n\", square)\n",
    "print(\"Transformed square:\\n\", transformed)"
   ]
  },
  {
   "cell_type": "markdown",
   "id": "1ed8491c-e242-4a6d-b227-efd48e039371",
   "metadata": {},
   "source": [
    "## 52. Determinant via Linear Rules\n",
    "\n",
    "Function built from a few simple rules that uniquely determine its behavior. These rules, often called determinant axioms, allow us to see the determinant as the only measure of \"signed volume\", compatible with linear algebra. \n",
    "\n",
    "Instead of memorizing expand formulas, we see why determinants behave the way they do.\n",
    "\n",
    "### Rule 1: Linearity in Each Column\n",
    "\n",
    "You can scale a column by a scalar. If you replace a column with a sum, the determinant splits.\n",
    "\n",
    "### Rule 2: Alternating Property\n",
    "\n",
    "If two columns are the same the determinant is zero. If you swap two columns, the det flips sign. \n",
    "\n",
    "### Rule 3: Normalization\n",
    "\n",
    "Det of the identity matrix is 1. \n",
    "\n",
    "### Consequence: Uniqueness\n",
    "\n",
    "These three rules uniquely define the determinant. ANy function satisfying them must be the determinant. "
   ]
  },
  {
   "cell_type": "code",
   "execution_count": 6,
   "id": "3928adba-7e60-4689-829f-d20aaf5c59dc",
   "metadata": {},
   "outputs": [
    {
     "name": "stdout",
     "output_type": "stream",
     "text": [
      "det(A): -2\n",
      "det(B): -4\n"
     ]
    }
   ],
   "source": [
    "# Linearity in Each Column\n",
    "A = Matrix([[1,2],[3,4]])\n",
    "print(\"det(A):\", A.det())\n",
    "\n",
    "B = Matrix([[2,4],[3,4]])  # first row doubled\n",
    "print(\"det(B):\", B.det())"
   ]
  },
  {
   "cell_type": "code",
   "execution_count": 7,
   "id": "ebc359f1-82af-4e6f-8c3b-00747beb806f",
   "metadata": {},
   "outputs": [
    {
     "name": "stdout",
     "output_type": "stream",
     "text": [
      "det(C): -2\n",
      "det(C_swapped): 2\n"
     ]
    }
   ],
   "source": [
    "# Row swaps / alternating property\n",
    "\n",
    "C = Matrix([[1,2],[3,4]])\n",
    "C_swapped = Matrix([[3,4],[1,2]])\n",
    "\n",
    "print(\"det(C):\", C.det())\n",
    "print(\"det(C_swapped):\", C_swapped.det())"
   ]
  },
  {
   "cell_type": "markdown",
   "id": "996e54de-6fbe-482d-bfc6-3b4983849d54",
   "metadata": {},
   "source": [
    "## 53. Determinant and Row Operations\n",
    "\n",
    "Understanding how row operations change. Basically re-iterating above.\n"
   ]
  },
  {
   "cell_type": "markdown",
   "id": "7bdd93ec-2063-45de-9ff9-7e5ea3e182dc",
   "metadata": {},
   "source": [
    "## 54. Triangular Matrices and Product of Diagonals\n",
    "\n",
    "**Determinant of a triangular matrix is simply the product of its diagonal entries**"
   ]
  },
  {
   "cell_type": "code",
   "execution_count": 8,
   "id": "b87cd125-21f4-4192-816d-7e64adcf7137",
   "metadata": {},
   "outputs": [
    {
     "name": "stdout",
     "output_type": "stream",
     "text": [
      "det(D) via SymPy: -3\n",
      "det(D) via LU decomposition: -3\n"
     ]
    }
   ],
   "source": [
    "D = Matrix([[1,2,3],[4,5,6],[7,8,10]])\n",
    "print(\"det(D) via SymPy:\", D.det())\n",
    "print(\"det(D) via LU decomposition:\", D.LUdecomposition()[0].det() * D.LUdecomposition()[1].det())"
   ]
  },
  {
   "cell_type": "code",
   "execution_count": 12,
   "id": "73dff465-4c6b-4663-a0d6-74f8fd3e5400",
   "metadata": {},
   "outputs": [
    {
     "name": "stdout",
     "output_type": "stream",
     "text": [
      "(Matrix([\n",
      "[1, 0, 0],\n",
      "[4, 1, 0],\n",
      "[7, 2, 1]]),\n",
      " Matrix([\n",
      "[1,  2,  3],\n",
      "[0, -3, -6],\n",
      "[0,  0,  1]]),\n",
      " [])\n",
      "det(D) via SymPy: -3\n",
      "det(D) via LU decomposition: -3\n"
     ]
    }
   ],
   "source": [
    "lu_decomp_D = D.LUdecomposition()\n",
    "pprint(lu_decomp_D)\n",
    "\n",
    "D = Matrix([[1,2,3],[4,5,6],[7,8,10]])\n",
    "print(\"det(D) via SymPy:\", D.det())\n",
    "print(\"det(D) via LU decomposition:\",D.LUdecomposition()[1].det())"
   ]
  },
  {
   "cell_type": "markdown",
   "id": "67c8caf8-4478-4774-8246-959fafb8e05c",
   "metadata": {},
   "source": [
    "## 55. Multiplicative Property of Determinants \n",
    "\n",
    "$$ det(AB) = det(A) \\cdot det(B) $$\n",
    "\n",
    "Property is fundamental. Connects algebra with geometry. \n",
    "\n",
    "### Statement in Words\n",
    "\n",
    "* if you first apply a linear xform B, then apply A, the total scaling of space is the product of their individual scalings\n",
    "* determinants track exactly this: the signed volume change under linear transformations\n",
    "\n",
    "### Key Consequences\n",
    "\n",
    "$$ det (A^k) = \\left( det(A) \\right)^k $$"
   ]
  },
  {
   "cell_type": "code",
   "execution_count": 13,
   "id": "dcff78bf-130f-40aa-815e-b84f921f68d4",
   "metadata": {},
   "outputs": [
    {
     "name": "stdout",
     "output_type": "stream",
     "text": [
      "det(A): 6\n",
      "det(B): -3\n",
      "det(AB): -18\n",
      "det(A)*det(B): -18\n"
     ]
    }
   ],
   "source": [
    "A = Matrix([[2,1],[0,3]])\n",
    "B = Matrix([[1,4],[2,5]])\n",
    "\n",
    "detA = A.det()\n",
    "detB = B.det()\n",
    "detAB = (A*B).det()\n",
    "\n",
    "print(\"det(A):\", detA)\n",
    "print(\"det(B):\", detB)\n",
    "print(\"det(AB):\", detAB)\n",
    "print(\"det(A)*det(B):\", detA*detB)"
   ]
  },
  {
   "cell_type": "code",
   "execution_count": 14,
   "id": "444aa8c4-3fe7-4b72-8a2f-689ac49ff383",
   "metadata": {},
   "outputs": [
    {
     "name": "stdout",
     "output_type": "stream",
     "text": [
      "det(A): 25\n",
      "det(B): -15\n",
      "det(AB): -375\n",
      "det(A)*det(B): -375\n"
     ]
    }
   ],
   "source": [
    "np.random.seed(1)\n",
    "A = Matrix(np.random.randint(-3,4,(3,3)))\n",
    "B = Matrix(np.random.randint(-3,4,(3,3)))\n",
    "\n",
    "print(\"det(A):\", A.det())\n",
    "print(\"det(B):\", B.det())\n",
    "print(\"det(AB):\", (A*B).det())\n",
    "print(\"det(A)*det(B):\", A.det()*B.det())"
   ]
  },
  {
   "cell_type": "markdown",
   "id": "dbbfb153-57c4-437b-adc9-2ba8d4c0cb84",
   "metadata": {},
   "source": [
    "## 56. Invertibility and Zero determinant \n",
    "\n",
    "A square matrix $ A \\in \\mathbb{R}^{n \\times n} $ has an inverse IFF its determinant is nonzero.\n",
    "\n",
    "### Algebraic Meaning \n",
    "\n",
    "Determinant is product of eigenvalues. If any eigenvalue is zero, then det = 0 and the matrix is singular (not invertible). "
   ]
  },
  {
   "cell_type": "code",
   "execution_count": 15,
   "id": "cc7d0025-55c6-43c2-8719-e28fd1be2ba6",
   "metadata": {},
   "outputs": [
    {
     "name": "stdout",
     "output_type": "stream",
     "text": [
      "det(A): 1\n",
      "Inverse exists? True\n",
      "A inverse:\n",
      " Matrix([[3, -1], [-5, 2]])\n"
     ]
    }
   ],
   "source": [
    "A = Matrix([[2,1],[5,3]])\n",
    "print(\"det(A):\", A.det())\n",
    "print(\"Inverse exists?\", A.det() != 0)\n",
    "print(\"A inverse:\\n\", A.inv())"
   ]
  },
  {
   "cell_type": "markdown",
   "id": "73bb3747-c40d-4b28-bb5f-8d80a3ccff88",
   "metadata": {},
   "source": [
    "## 57. Cofactor Expansion \n",
    "\n",
    "When elimination gives a practical way to compute determinants, the cofactor expansion (also called Laplace expansion) offers a recursive def that works for all square matrices. Expresses determinant of an $ n \\times n $ matrix in terms of smaller $ (n-1) \\times (n-1)$ matrices. \n",
    "\n",
    "### Minors and Cofactors\n",
    "\n",
    "* Minor $M_{ij}$ of an entry $a_{ij}$ is det of the submatrix obtained by deleting the $i$-th row and $j$-th col from $A$\n",
    "* Cofactor $C_{ij}$ adds the sign factor: $C_{ij} = (-1)^{i+j}M_{ij}$\n",
    "\n",
    "### Expansion Formula \n",
    "\n",
    "For any row $i$:\n",
    "$$ \\text{det} A = \\sum_{j=1}^n a_{ij} C_{ij} $$\n",
    "\n",
    "for any column $j$:\n",
    "$$ \\text{det} A = \\sum_{i=1}^n a_{ij} C_{ij} $$\n",
    "\n",
    "#### Example: 3x3 case\n",
    "\n",
    "Ok so \n",
    "$$ A = \\begin{bmatrix} a & b & c \\\\ d & e & f \\\\ g & h & i \\end{bmatrix} $$\n",
    "expanding along the first row:\n",
    "\n",
    "$$ \n",
    "\\text{det}(A) = \n",
    "    a \\cdot \\text{det} \\begin{bmatrix} e & f \\\\ h & i \\end{bmatrix}\n",
    "  - b \\cdot \\text{det} \\begin{bmatrix} d & f \\\\ g & i \\end{bmatrix}\n",
    "  + c \\cdot \\text{det} \\begin{bmatrix} d & e \\\\ g & h \\end{bmatrix}\n",
    "$$\n",
    "\n",
    "and therefore:\n",
    "\n",
    "$$ \\text{det}(A) = a(ei-fh) - b(di-fg) + c(dh-eg) $$\n",
    "\n",
    "This gets inefficient quick which is why LU factorization is prefered numerically. "
   ]
  },
  {
   "cell_type": "markdown",
   "id": "d4b4e579-2f46-46b1-9948-1b18fc21023a",
   "metadata": {},
   "source": [
    "## 58. Permutations and the Sign of the Determinant\n",
    "\n",
    "I'm going to skip this one. It is interesting, and we never studied it in college but yeah I don't think it's going to be much relevant for me unpacking muons."
   ]
  },
  {
   "cell_type": "markdown",
   "id": "43ca116e-03b1-4554-ae9c-e160a8886d27",
   "metadata": {},
   "source": [
    "## 59. Cramer's Rule\n",
    "\n",
    "This is a classical method for solviing systems of linear equations using determinants. \n",
    "\n",
    "### Setup\n",
    "\n",
    "Consider a system of n linear equations with $n$ unknowns $Ax = b$\n",
    "\n",
    "Cramer's rule states that:\n",
    "$$ x_i = \\frac{\\text{det}(A_j)}{\\text{det}(A)} $$\n",
    "where $A_i$ is the matrix $A$ with its $i$-th column replaced by $b$\n",
    "\n",
    "Huh interesting. Never seen this before either. "
   ]
  },
  {
   "cell_type": "code",
   "execution_count": 16,
   "id": "5a5ef86a-99f0-470c-ba86-cbf10777a43b",
   "metadata": {},
   "outputs": [
    {
     "name": "stdout",
     "output_type": "stream",
     "text": [
      "det(A): -3\n",
      "Solution via Cramer's Rule: [2, 1]\n",
      "SymPy solve: Matrix([[2], [1]])\n"
     ]
    }
   ],
   "source": [
    "A = Matrix([[2,1],[1,-1]])\n",
    "b = Matrix([5,1])\n",
    "\n",
    "detA = A.det()\n",
    "print(\"det(A):\", detA)\n",
    "\n",
    "# Replace columns\n",
    "A1 = A.copy()\n",
    "A1[:,0] = b\n",
    "A2 = A.copy()\n",
    "A2[:,1] = b\n",
    "\n",
    "x1 = A1.det() / detA\n",
    "x2 = A2.det() / detA\n",
    "print(\"Solution via Cramer's Rule:\", [x1, x2])\n",
    "\n",
    "# Check with built-in solver\n",
    "print(\"SymPy solve:\", A.LUsolve(b))"
   ]
  },
  {
   "cell_type": "code",
   "execution_count": 17,
   "id": "85ce160b-135e-49e4-a031-ecaf51239c40",
   "metadata": {},
   "outputs": [
    {
     "name": "stdout",
     "output_type": "stream",
     "text": [
      "det(A): 1\n",
      "Solution via Cramer's Rule: [21, -16, 6]\n",
      "SymPy solve: Matrix([[21], [-16], [6]])\n"
     ]
    }
   ],
   "source": [
    "A = Matrix([\n",
    "    [1,2,3],\n",
    "    [0,1,4],\n",
    "    [5,6,0]\n",
    "])\n",
    "b = Matrix([7,8,9])\n",
    "\n",
    "detA = A.det()\n",
    "print(\"det(A):\", detA)\n",
    "\n",
    "solutions = []\n",
    "for i in range(A.shape[1]):\n",
    "    Ai = A.copy()\n",
    "    Ai[:,i] = b\n",
    "    solutions.append(Ai.det()/detA)\n",
    "\n",
    "print(\"Solution via Cramer's Rule:\", solutions)\n",
    "print(\"SymPy solve:\", A.LUsolve(b))"
   ]
  },
  {
   "cell_type": "markdown",
   "id": "3efb60a5-8962-48b5-8742-da7171cfebc1",
   "metadata": {},
   "source": [
    "## 60. Computing Determinants in Practice\n",
    "\n",
    "Practical computation relies on systematic algorithms that exploit structure - especially elimination and matrix factorizations. \n",
    "\n",
    "### Large Matrices: Elimination and LU Decomposition\n",
    "For $n > 3$ , practical methods revolve around Gaussian elimination\n",
    "\n",
    "1. Row reduction\n",
    "  a. Reduce A to an upper triangular matrix U using row ops\n",
    "  b. Keep track of ops:\n",
    "    i. Row swaps -> flip sign\n",
    "    ii. Row scaling -> multiple det\n",
    "    iii. Row replacements -> no effect\n",
    "  c. Once triangular, compute det as product of diags\n",
    "2. LU Factorization\n",
    "  a. Expresss A = LU where L is lower triang and U is upper\n",
    "  b. Then det(A) = det(L)det(B)\n",
    "  c. Since L has 1s on its diag, product of diags of U = det\n",
    "\n",
    "Reduces complexity to $O(n^3)$"
   ]
  },
  {
   "cell_type": "code",
   "execution_count": 18,
   "id": "765b3263-8436-4fea-947d-ad7439c2aab2",
   "metadata": {},
   "outputs": [
    {
     "name": "stdout",
     "output_type": "stream",
     "text": [
      "L:\n",
      " Matrix([[1, 0, 0], [0, 1, 0], [5, -4, 1]])\n",
      "U:\n",
      " Matrix([[1, 2, 3], [0, 1, 4], [0, 0, 1]])\n",
      "Permutation matrix:\n",
      " []\n",
      "det via LU product: 1\n"
     ]
    }
   ],
   "source": [
    "L, U, perm = A.LUdecomposition()\n",
    "detA = A.det()\n",
    "print(\"L:\\n\", L)\n",
    "print(\"U:\\n\", U)\n",
    "print(\"Permutation matrix:\\n\", perm)\n",
    "print(\"det via LU product:\", detA)"
   ]
  },
  {
   "cell_type": "code",
   "execution_count": 20,
   "id": "e53869a7-dfee-4bb9-a74e-2fc498291e38",
   "metadata": {},
   "outputs": [
    {
     "name": "stdout",
     "output_type": "stream",
     "text": [
      "NumPy det: -3.000000000000001\n"
     ]
    }
   ],
   "source": [
    "A_np = np.array([[1,2,3],[4,5,6],[7,8,10]], dtype=float)\n",
    "print(\"NumPy det:\", np.linalg.det(A_np))\n",
    "\n",
    "# NumPy uses optimized routines (LAPACK under the hood)."
   ]
  },
  {
   "cell_type": "code",
   "execution_count": null,
   "id": "94a9e34a-60b7-475a-8c39-e6df5726b9f6",
   "metadata": {},
   "outputs": [],
   "source": []
  }
 ],
 "metadata": {
  "kernelspec": {
   "display_name": "Python 3 (ipykernel)",
   "language": "python",
   "name": "python3"
  },
  "language_info": {
   "codemirror_mode": {
    "name": "ipython",
    "version": 3
   },
   "file_extension": ".py",
   "mimetype": "text/x-python",
   "name": "python",
   "nbconvert_exporter": "python",
   "pygments_lexer": "ipython3",
   "version": "3.13.5"
  }
 },
 "nbformat": 4,
 "nbformat_minor": 5
}
