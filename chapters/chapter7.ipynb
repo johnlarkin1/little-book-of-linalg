{
 "cells": [
  {
   "cell_type": "markdown",
   "id": "d41c4928-f353-4750-94b1-b6a29cbe9cb1",
   "metadata": {},
   "source": [
    "# Chapter 7. Eigenvalues, eigenvectors, and dynamics"
   ]
  },
  {
   "cell_type": "code",
   "execution_count": 20,
   "id": "d44357d0-8df2-411a-999a-e1832caeb756",
   "metadata": {},
   "outputs": [
    {
     "name": "stdout",
     "output_type": "stream",
     "text": [
      "IPython console for SymPy 1.14.0 (Python 3.13.5-64-bit) (ground types: python)\n",
      "\n",
      "These commands were executed:\n",
      ">>> from sympy import *\n",
      ">>> x, y, z, t = symbols('x y z t')\n",
      ">>> k, m, n = symbols('k m n', integer=True)\n",
      ">>> f, g, h = symbols('f g h', cls=Function)\n",
      ">>> init_printing()\n",
      "\n",
      "Documentation can be found at https://docs.sympy.org/1.14.0/\n",
      "\n"
     ]
    }
   ],
   "source": [
    "import numpy as np\n",
    "import matplotlib.pyplot as plt\n",
    "import time\n",
    "%matplotlib widget\n",
    "from sympy import Matrix, init_printing, init_session\n",
    "from pprint import pprint\n",
    "from IPython.display import display\n",
    "init_session()\n",
    "init_printing(use_unicode=True)\n"
   ]
  },
  {
   "cell_type": "markdown",
   "id": "bdc208d2-4328-402b-8cb4-4f5418009eb2",
   "metadata": {},
   "source": [
    "## 61. Eigenvalues and Eigenvectors\n",
    "\n",
    "One of the most powerful notions in linagl. Reveal hidden axes of action. Instead of mixing and rotating everything, an eigenvector is legt unchanged in direction, scaled only by its corresponding eigenvalue. \n",
    "\n",
    "### Core Idea\n",
    "\n",
    "$A$ is an $n \\times n$ matrix. A nonzero vector $v \\in \\mathbb{R}^{n}$ is called an eigenvector of $A$ if $$Av = \\lambda v$$\n",
    "\n",
    "\n",
    "The scalar $\\lambda$ is the eigenvalue corresponding to $v$ \n",
    "\n",
    "* eigenvector - special direction preserved by the transformation\n",
    "* eigenvalue - factor by which the eigenvector is stretched or compressed\n",
    "\n",
    "if:\n",
    "* $\\lambda > 1$ - eigenvector is stretched\n",
    "* $0 < \\lambda < 1$ - eigenvector is compressed\n",
    "* $\\lambda < 0$ - eigenvector is flipped in direction\n",
    "* $\\lambda = 0$ - eigenvector is flattened to zero\n",
    "\n",
    "### General Case: The Eigenvalue Equation\n",
    "\n",
    "For non-trivial $v$, the matrix $A - \\lambda I$ must be singular:\n",
    "\n",
    "$$ \\text{det} (A - \\lambda I ) = 0 $$\n",
    "\n",
    "### Dynamics and Repeated Applications\n",
    "\n",
    "They describe repeated transformations!! This is very important. It helps create a predictable result. \n",
    "\n",
    "$$ A^k v = \\lambda^k v $$\n",
    "\n",
    "### Applications:\n",
    "\n",
    "1. Physics  - vibration of molecules, quantum energy levels\n",
    "2. Data science - PCA\n",
    "3. Markov Chains - steady state probabilities correspond to eigenvectors with eigenvalue 1\n",
    "4. Differential Equations - eigenvalues simplify systems of linear ODEs\n",
    "5. Compute graphics - xforms like rotations and scaling"
   ]
  },
  {
   "cell_type": "code",
   "execution_count": 22,
   "id": "5d4c8df6-e604-4f5f-97f4-c1d77d5a91d2",
   "metadata": {},
   "outputs": [
    {
     "name": "stdout",
     "output_type": "stream",
     "text": [
      "Eigenvalues and eigenvectors:\n"
     ]
    },
    {
     "data": {
      "text/latex": [
       "$\\displaystyle \\left[ \\left( 1, \\  1, \\  \\left[ \\left[\\begin{matrix}-1\\\\1\\end{matrix}\\right]\\right]\\right), \\  \\left( 3, \\  1, \\  \\left[ \\left[\\begin{matrix}1\\\\1\\end{matrix}\\right]\\right]\\right)\\right]$"
      ],
      "text/plain": [
       "⎡⎛      ⎡⎡-1⎤⎤⎞  ⎛      ⎡⎡1⎤⎤⎞⎤\n",
       "⎢⎜1, 1, ⎢⎢  ⎥⎥⎟, ⎜3, 1, ⎢⎢ ⎥⎥⎟⎥\n",
       "⎣⎝      ⎣⎣1 ⎦⎦⎠  ⎝      ⎣⎣1⎦⎦⎠⎦"
      ]
     },
     "metadata": {},
     "output_type": "display_data"
    }
   ],
   "source": [
    "A = Matrix([\n",
    "    [2,1],\n",
    "    [1,2]\n",
    "])\n",
    "\n",
    "eigs = A.eigenvects()\n",
    "print(\"Eigenvalues and eigenvectors:\")\n",
    "display(eigs)\n"
   ]
  },
  {
   "cell_type": "code",
   "execution_count": 23,
   "id": "e2e3c800-6609-412d-b521-bd22a234d2c5",
   "metadata": {},
   "outputs": [
    {
     "name": "stdout",
     "output_type": "stream",
     "text": [
      "Check Av = λv:\n"
     ]
    },
    {
     "data": {
      "text/latex": [
       "$\\displaystyle \\left[\\begin{matrix}-1\\\\1\\end{matrix}\\right]$"
      ],
      "text/plain": [
       "⎡-1⎤\n",
       "⎢  ⎥\n",
       "⎣1 ⎦"
      ]
     },
     "metadata": {},
     "output_type": "display_data"
    },
    {
     "data": {
      "text/latex": [
       "$\\displaystyle \\left[\\begin{matrix}-1\\\\1\\end{matrix}\\right]$"
      ],
      "text/plain": [
       "⎡-1⎤\n",
       "⎢  ⎥\n",
       "⎣1 ⎦"
      ]
     },
     "metadata": {},
     "output_type": "display_data"
    }
   ],
   "source": [
    "lam = eigs[0][0]\n",
    "v = eigs[0][2][0]\n",
    "print(\"Check Av = λv:\")\n",
    "display(A*v)\n",
    "display(lam*v)"
   ]
  },
  {
   "cell_type": "markdown",
   "id": "4ba8e905-dd0e-40b2-922b-47d9ce384681",
   "metadata": {},
   "source": [
    "## Characteristic Polynomial\n",
    "\n",
    "To uncover the eigenvalues, we use a central tool: characteristic polynomial. "
   ]
  },
  {
   "cell_type": "code",
   "execution_count": null,
   "id": "a5fc9937-bd89-4f7c-833a-d8d05ab695ed",
   "metadata": {},
   "outputs": [],
   "source": []
  }
 ],
 "metadata": {
  "kernelspec": {
   "display_name": "Python 3 (ipykernel)",
   "language": "python",
   "name": "python3"
  },
  "language_info": {
   "codemirror_mode": {
    "name": "ipython",
    "version": 3
   },
   "file_extension": ".py",
   "mimetype": "text/x-python",
   "name": "python",
   "nbconvert_exporter": "python",
   "pygments_lexer": "ipython3",
   "version": "3.13.5"
  }
 },
 "nbformat": 4,
 "nbformat_minor": 5
}
